{
 "cells": [
  {
   "cell_type": "code",
   "execution_count": 17,
   "id": "b6ebb03f",
   "metadata": {},
   "outputs": [],
   "source": [
    "import torch\n",
    "import torch.nn.functional as F\n",
    "import matplotlib.pyplot as plt # for making figures\n",
    "%matplotlib inline"
   ]
  },
  {
   "cell_type": "code",
   "execution_count": 50,
   "id": "12bfbbe9",
   "metadata": {},
   "outputs": [
    {
     "data": {
      "text/plain": [
       "['emma', 'olivia', 'ava', 'isabella', 'sophia', 'charlotte', 'mia', 'amelia']"
      ]
     },
     "execution_count": 50,
     "metadata": {},
     "output_type": "execute_result"
    }
   ],
   "source": [
    "# read in all the words\n",
    "words = open('names.txt', 'r').read().splitlines()\n",
    "words[:8]"
   ]
  },
  {
   "cell_type": "code",
   "execution_count": 51,
   "id": "700429b6",
   "metadata": {},
   "outputs": [
    {
     "data": {
      "text/plain": [
       "32033"
      ]
     },
     "execution_count": 51,
     "metadata": {},
     "output_type": "execute_result"
    }
   ],
   "source": [
    "len(words)"
   ]
  },
  {
   "cell_type": "code",
   "execution_count": 52,
   "id": "636d3ce2",
   "metadata": {},
   "outputs": [
    {
     "name": "stdout",
     "output_type": "stream",
     "text": [
      "{1: 'a', 2: 'b', 3: 'c', 4: 'd', 5: 'e', 6: 'f', 7: 'g', 8: 'h', 9: 'i', 10: 'j', 11: 'k', 12: 'l', 13: 'm', 14: 'n', 15: 'o', 16: 'p', 17: 'q', 18: 'r', 19: 's', 20: 't', 21: 'u', 22: 'v', 23: 'w', 24: 'x', 25: 'y', 26: 'z', 0: '.'}\n"
     ]
    }
   ],
   "source": [
    "# build the vocabulary of characters and mappings to/from integers\n",
    "chars = sorted(list(set(''.join(words))))\n",
    "stoi = {s:i+1 for i,s in enumerate(chars)}\n",
    "stoi['.'] = 0\n",
    "itos = {i:s for s,i in stoi.items()}\n",
    "print(itos)"
   ]
  },
  {
   "cell_type": "code",
   "execution_count": 53,
   "id": "153fdd06",
   "metadata": {},
   "outputs": [],
   "source": [
    "#build the dataset\n",
    "block_size = 3 # context length: how many charactesrs do we take to predict the next one?\n",
    "X, Y = [], []\n",
    "for w in words[:5]:\n",
    "    \n",
    "#     print(w)\n",
    "    context = [0] * block_size\n",
    "#     print('context', context)\n",
    "    for ch in w + '.':\n",
    "        ix = stoi[ch]\n",
    "        X.append(context)\n",
    "        Y.append(ix)\n",
    "#         print(''.join(itos[i] for i in context),'--->', itos[ix])\n",
    "        context =  context[1:] + [ix] #crop and append\n",
    "    \n",
    "X = torch.tensor(X)\n",
    "Y = torch.tensor(Y)\n"
   ]
  },
  {
   "cell_type": "code",
   "execution_count": 54,
   "id": "365fb8bd",
   "metadata": {},
   "outputs": [
    {
     "name": "stdout",
     "output_type": "stream",
     "text": [
      "torch.Size([182625, 3]) torch.Size([182625])\n",
      "torch.Size([22655, 3]) torch.Size([22655])\n",
      "torch.Size([22866, 3]) torch.Size([22866])\n"
     ]
    }
   ],
   "source": [
    "# build the dataset\n",
    "\n",
    "def build_dataset(words):  \n",
    "  block_size = 3 # context length: how many characters do we take to predict the next one?\n",
    "  X, Y = [], []\n",
    "  for w in words:\n",
    "\n",
    "    #print(w)\n",
    "    context = [0] * block_size\n",
    "    for ch in w + '.':\n",
    "      ix = stoi[ch]\n",
    "      X.append(context)\n",
    "      Y.append(ix)\n",
    "      #print(''.join(itos[i] for i in context), '--->', itos[ix])\n",
    "      context = context[1:] + [ix] # crop and append\n",
    "\n",
    "  X = torch.tensor(X)\n",
    "  Y = torch.tensor(Y)\n",
    "  print(X.shape, Y.shape)\n",
    "  return X, Y\n",
    "\n",
    "import random\n",
    "random.seed(42)\n",
    "random.shuffle(words)\n",
    "n1 = int(0.8*len(words))\n",
    "n2 = int(0.9*len(words))\n",
    "\n",
    "Xtr, Ytr = build_dataset(words[:n1])\n",
    "Xdev, Ydev = build_dataset(words[n1:n2])                              \n",
    "Xte, Yte = build_dataset(words[n2:])"
   ]
  },
  {
   "cell_type": "code",
   "execution_count": 55,
   "id": "eb809998",
   "metadata": {},
   "outputs": [
    {
     "data": {
      "text/plain": [
       "(torch.Size([32, 3]), torch.int64, torch.Size([32]), torch.int64)"
      ]
     },
     "execution_count": 55,
     "metadata": {},
     "output_type": "execute_result"
    }
   ],
   "source": [
    "X.shape, X.dtype, Y.shape, Y.dtype"
   ]
  },
  {
   "cell_type": "code",
   "execution_count": 56,
   "id": "9ea9169b",
   "metadata": {},
   "outputs": [
    {
     "data": {
      "text/plain": [
       "tensor([[ 1.7259, -0.5763],\n",
       "        [-0.4540, -0.2048],\n",
       "        [-0.1235, -2.4210],\n",
       "        [ 0.2396, -0.5797],\n",
       "        [-0.2019,  1.1156],\n",
       "        [-0.5444, -0.3678],\n",
       "        [ 0.4410,  0.9303],\n",
       "        [-0.4938,  0.5473],\n",
       "        [ 0.5602, -0.5098],\n",
       "        [-0.5890,  0.1834],\n",
       "        [-0.3265, -0.0553],\n",
       "        [-0.7864, -0.7662],\n",
       "        [-0.5289,  0.6024],\n",
       "        [ 2.7543,  0.5467],\n",
       "        [-0.0973,  0.9956],\n",
       "        [ 0.6760,  1.5489],\n",
       "        [ 0.3170, -1.2830],\n",
       "        [-0.2210, -1.2871],\n",
       "        [-1.3897, -1.1577],\n",
       "        [ 0.7625,  0.8811],\n",
       "        [ 0.7837,  0.7624],\n",
       "        [ 0.7936,  0.7512],\n",
       "        [ 0.9545, -0.9962],\n",
       "        [ 0.9688,  0.1189],\n",
       "        [-0.0908,  0.6628],\n",
       "        [-1.3276, -1.3997],\n",
       "        [ 0.8911,  0.7004]])"
      ]
     },
     "execution_count": 56,
     "metadata": {},
     "output_type": "execute_result"
    }
   ],
   "source": [
    "C = torch.randn((27,2))\n",
    "C"
   ]
  },
  {
   "cell_type": "code",
   "execution_count": 57,
   "id": "7e9f215d",
   "metadata": {},
   "outputs": [
    {
     "data": {
      "text/plain": [
       "torch.Size([27])"
      ]
     },
     "execution_count": 57,
     "metadata": {},
     "output_type": "execute_result"
    }
   ],
   "source": [
    "F.one_hot(torch.tensor(5), num_classes=27 ).shape"
   ]
  },
  {
   "cell_type": "code",
   "execution_count": 58,
   "id": "2873d6f3",
   "metadata": {},
   "outputs": [
    {
     "data": {
      "text/plain": [
       "tensor([[-0.4540, -0.2048],\n",
       "        [-0.1235, -2.4210],\n",
       "        [ 0.2396, -0.5797]])"
      ]
     },
     "execution_count": 58,
     "metadata": {},
     "output_type": "execute_result"
    }
   ],
   "source": [
    "C[[1,2,3]]"
   ]
  },
  {
   "cell_type": "code",
   "execution_count": 59,
   "id": "1e5e9e78",
   "metadata": {},
   "outputs": [
    {
     "name": "stdout",
     "output_type": "stream",
     "text": [
      "C.shape torch.Size([27, 2])\n",
      "X.shape torch.Size([32, 3])\n"
     ]
    }
   ],
   "source": [
    "print('C.shape',C.shape)\n",
    "print('X.shape',X.shape)"
   ]
  },
  {
   "cell_type": "code",
   "execution_count": 60,
   "id": "7067c8a8",
   "metadata": {},
   "outputs": [
    {
     "data": {
      "text/plain": [
       "tensor([-0.5444, -0.3678])"
      ]
     },
     "execution_count": 60,
     "metadata": {},
     "output_type": "execute_result"
    }
   ],
   "source": [
    "F.one_hot(torch.tensor(5), num_classes=27 ).float() @ C"
   ]
  },
  {
   "cell_type": "code",
   "execution_count": 61,
   "id": "2362cc78",
   "metadata": {},
   "outputs": [
    {
     "data": {
      "text/plain": [
       "tensor(1)"
      ]
     },
     "execution_count": 61,
     "metadata": {},
     "output_type": "execute_result"
    }
   ],
   "source": [
    "X[13,2]"
   ]
  },
  {
   "cell_type": "code",
   "execution_count": 63,
   "id": "9aad4f97",
   "metadata": {},
   "outputs": [
    {
     "data": {
      "text/plain": [
       "tensor([-0.4540, -0.2048])"
      ]
     },
     "execution_count": 63,
     "metadata": {},
     "output_type": "execute_result"
    }
   ],
   "source": [
    "C[1]"
   ]
  },
  {
   "cell_type": "code",
   "execution_count": 64,
   "id": "950a881e",
   "metadata": {},
   "outputs": [
    {
     "data": {
      "text/plain": [
       "tensor([-0.4540, -0.2048])"
      ]
     },
     "execution_count": 64,
     "metadata": {},
     "output_type": "execute_result"
    }
   ],
   "source": [
    "C[X][13,2]"
   ]
  },
  {
   "cell_type": "code",
   "execution_count": 69,
   "id": "8573a6b2",
   "metadata": {},
   "outputs": [
    {
     "data": {
      "text/plain": [
       "torch.Size([32, 3, 2])"
      ]
     },
     "execution_count": 69,
     "metadata": {},
     "output_type": "execute_result"
    }
   ],
   "source": [
    "C.shape\n",
    "C[X].shape"
   ]
  },
  {
   "cell_type": "code",
   "execution_count": 70,
   "id": "cfba0559",
   "metadata": {},
   "outputs": [
    {
     "name": "stdout",
     "output_type": "stream",
     "text": [
      "torch.Size([32, 3, 2])\n"
     ]
    },
    {
     "data": {
      "text/plain": [
       "tensor([[[ 1.7259, -0.5763],\n",
       "         [ 1.7259, -0.5763],\n",
       "         [ 1.7259, -0.5763]],\n",
       "\n",
       "        [[ 1.7259, -0.5763],\n",
       "         [ 1.7259, -0.5763],\n",
       "         [-0.5444, -0.3678]],\n",
       "\n",
       "        [[ 1.7259, -0.5763],\n",
       "         [-0.5444, -0.3678],\n",
       "         [ 2.7543,  0.5467]],\n",
       "\n",
       "        [[-0.5444, -0.3678],\n",
       "         [ 2.7543,  0.5467],\n",
       "         [ 2.7543,  0.5467]],\n",
       "\n",
       "        [[ 2.7543,  0.5467],\n",
       "         [ 2.7543,  0.5467],\n",
       "         [-0.4540, -0.2048]],\n",
       "\n",
       "        [[ 1.7259, -0.5763],\n",
       "         [ 1.7259, -0.5763],\n",
       "         [ 1.7259, -0.5763]],\n",
       "\n",
       "        [[ 1.7259, -0.5763],\n",
       "         [ 1.7259, -0.5763],\n",
       "         [ 0.6760,  1.5489]],\n",
       "\n",
       "        [[ 1.7259, -0.5763],\n",
       "         [ 0.6760,  1.5489],\n",
       "         [-0.5289,  0.6024]],\n",
       "\n",
       "        [[ 0.6760,  1.5489],\n",
       "         [-0.5289,  0.6024],\n",
       "         [-0.5890,  0.1834]],\n",
       "\n",
       "        [[-0.5289,  0.6024],\n",
       "         [-0.5890,  0.1834],\n",
       "         [ 0.9545, -0.9962]],\n",
       "\n",
       "        [[-0.5890,  0.1834],\n",
       "         [ 0.9545, -0.9962],\n",
       "         [-0.5890,  0.1834]],\n",
       "\n",
       "        [[ 0.9545, -0.9962],\n",
       "         [-0.5890,  0.1834],\n",
       "         [-0.4540, -0.2048]],\n",
       "\n",
       "        [[ 1.7259, -0.5763],\n",
       "         [ 1.7259, -0.5763],\n",
       "         [ 1.7259, -0.5763]],\n",
       "\n",
       "        [[ 1.7259, -0.5763],\n",
       "         [ 1.7259, -0.5763],\n",
       "         [-0.4540, -0.2048]],\n",
       "\n",
       "        [[ 1.7259, -0.5763],\n",
       "         [-0.4540, -0.2048],\n",
       "         [ 0.9545, -0.9962]],\n",
       "\n",
       "        [[-0.4540, -0.2048],\n",
       "         [ 0.9545, -0.9962],\n",
       "         [-0.4540, -0.2048]],\n",
       "\n",
       "        [[ 1.7259, -0.5763],\n",
       "         [ 1.7259, -0.5763],\n",
       "         [ 1.7259, -0.5763]],\n",
       "\n",
       "        [[ 1.7259, -0.5763],\n",
       "         [ 1.7259, -0.5763],\n",
       "         [-0.5890,  0.1834]],\n",
       "\n",
       "        [[ 1.7259, -0.5763],\n",
       "         [-0.5890,  0.1834],\n",
       "         [ 0.7625,  0.8811]],\n",
       "\n",
       "        [[-0.5890,  0.1834],\n",
       "         [ 0.7625,  0.8811],\n",
       "         [-0.4540, -0.2048]],\n",
       "\n",
       "        [[ 0.7625,  0.8811],\n",
       "         [-0.4540, -0.2048],\n",
       "         [-0.1235, -2.4210]],\n",
       "\n",
       "        [[-0.4540, -0.2048],\n",
       "         [-0.1235, -2.4210],\n",
       "         [-0.5444, -0.3678]],\n",
       "\n",
       "        [[-0.1235, -2.4210],\n",
       "         [-0.5444, -0.3678],\n",
       "         [-0.5289,  0.6024]],\n",
       "\n",
       "        [[-0.5444, -0.3678],\n",
       "         [-0.5289,  0.6024],\n",
       "         [-0.5289,  0.6024]],\n",
       "\n",
       "        [[-0.5289,  0.6024],\n",
       "         [-0.5289,  0.6024],\n",
       "         [-0.4540, -0.2048]],\n",
       "\n",
       "        [[ 1.7259, -0.5763],\n",
       "         [ 1.7259, -0.5763],\n",
       "         [ 1.7259, -0.5763]],\n",
       "\n",
       "        [[ 1.7259, -0.5763],\n",
       "         [ 1.7259, -0.5763],\n",
       "         [ 0.7625,  0.8811]],\n",
       "\n",
       "        [[ 1.7259, -0.5763],\n",
       "         [ 0.7625,  0.8811],\n",
       "         [ 0.6760,  1.5489]],\n",
       "\n",
       "        [[ 0.7625,  0.8811],\n",
       "         [ 0.6760,  1.5489],\n",
       "         [ 0.3170, -1.2830]],\n",
       "\n",
       "        [[ 0.6760,  1.5489],\n",
       "         [ 0.3170, -1.2830],\n",
       "         [ 0.5602, -0.5098]],\n",
       "\n",
       "        [[ 0.3170, -1.2830],\n",
       "         [ 0.5602, -0.5098],\n",
       "         [-0.5890,  0.1834]],\n",
       "\n",
       "        [[ 0.5602, -0.5098],\n",
       "         [-0.5890,  0.1834],\n",
       "         [-0.4540, -0.2048]]])"
      ]
     },
     "execution_count": 70,
     "metadata": {},
     "output_type": "execute_result"
    }
   ],
   "source": [
    "emb = C[X]\n",
    "print(emb.shape)\n",
    "emb.shape\n",
    "# emb[:,0,:]\n",
    "emb"
   ]
  },
  {
   "cell_type": "code",
   "execution_count": 33,
   "id": "e8514179",
   "metadata": {},
   "outputs": [],
   "source": [
    "W1 = torch.randn((6,100))\n",
    "b1 = torch.rand(100)"
   ]
  },
  {
   "cell_type": "code",
   "execution_count": 34,
   "id": "f7cb2e00",
   "metadata": {},
   "outputs": [
    {
     "data": {
      "text/plain": [
       "torch.Size([228146, 3, 2])"
      ]
     },
     "execution_count": 34,
     "metadata": {},
     "output_type": "execute_result"
    }
   ],
   "source": [
    "emb.shape"
   ]
  },
  {
   "cell_type": "code",
   "execution_count": 35,
   "id": "d7cd794b",
   "metadata": {},
   "outputs": [
    {
     "data": {
      "text/plain": [
       "torch.Size([6, 100])"
      ]
     },
     "execution_count": 35,
     "metadata": {},
     "output_type": "execute_result"
    }
   ],
   "source": [
    "W1.shape"
   ]
  },
  {
   "cell_type": "code",
   "execution_count": 38,
   "id": "bd2c064b",
   "metadata": {},
   "outputs": [
    {
     "data": {
      "text/plain": [
       "tensor([[-0.0875,  3.0502,  2.1069,  ..., -0.2714, -0.8751, -0.2000],\n",
       "        [ 0.4728,  4.1806,  2.6994,  ...,  0.1849, -0.0332, -0.7976],\n",
       "        [ 3.4865,  2.8138,  3.5670,  ...,  3.6383,  1.5245,  0.1645],\n",
       "        ...,\n",
       "        [-0.9702, -2.7871, -0.6910,  ..., -0.1974,  0.8669,  0.9619],\n",
       "        [-0.0108, -1.2763,  0.3515,  ...,  1.1165,  0.2937, -0.9802],\n",
       "        [-1.2130,  0.6079,  0.9836,  ...,  1.2230,  6.3536, -0.7786]])"
      ]
     },
     "execution_count": 38,
     "metadata": {},
     "output_type": "execute_result"
    }
   ],
   "source": [
    "emb.view(-1,6) @ W1 + b1"
   ]
  },
  {
   "cell_type": "code",
   "execution_count": 39,
   "id": "3c8bb2ac",
   "metadata": {},
   "outputs": [
    {
     "data": {
      "text/plain": [
       "torch.Size([228146, 2])"
      ]
     },
     "execution_count": 39,
     "metadata": {},
     "output_type": "execute_result"
    }
   ],
   "source": [
    "emb[:,0,:].shape"
   ]
  },
  {
   "cell_type": "code",
   "execution_count": 40,
   "id": "a7c390a3",
   "metadata": {},
   "outputs": [
    {
     "data": {
      "text/plain": [
       "torch.Size([228146, 6])"
      ]
     },
     "execution_count": 40,
     "metadata": {},
     "output_type": "execute_result"
    }
   ],
   "source": [
    "torch.cat([emb[:,0,:], emb[:,1,:], emb[:,2,:]],1).shape"
   ]
  },
  {
   "cell_type": "code",
   "execution_count": 41,
   "id": "da7c9bfc",
   "metadata": {},
   "outputs": [
    {
     "data": {
      "text/plain": [
       "torch.Size([228146, 3, 2])"
      ]
     },
     "execution_count": 41,
     "metadata": {},
     "output_type": "execute_result"
    }
   ],
   "source": [
    "emb.shape"
   ]
  },
  {
   "cell_type": "code",
   "execution_count": 42,
   "id": "8cc58e2f",
   "metadata": {},
   "outputs": [
    {
     "data": {
      "text/plain": [
       "2"
      ]
     },
     "execution_count": 42,
     "metadata": {},
     "output_type": "execute_result"
    }
   ],
   "source": [
    "len(torch.unbind(emb,2))"
   ]
  },
  {
   "cell_type": "code",
   "execution_count": 43,
   "id": "91b2f273",
   "metadata": {},
   "outputs": [
    {
     "data": {
      "text/plain": [
       "torch.Size([228146, 6])"
      ]
     },
     "execution_count": 43,
     "metadata": {},
     "output_type": "execute_result"
    }
   ],
   "source": [
    "torch.cat(torch.unbind(emb,1),1).shape"
   ]
  },
  {
   "cell_type": "code",
   "execution_count": 44,
   "id": "8e8fd7f5",
   "metadata": {},
   "outputs": [
    {
     "data": {
      "text/plain": [
       "tensor([ 0,  1,  2,  3,  4,  5,  6,  7,  8,  9, 10, 11, 12, 13, 14, 15, 16, 17])"
      ]
     },
     "execution_count": 44,
     "metadata": {},
     "output_type": "execute_result"
    }
   ],
   "source": [
    "a = torch.arange(18)\n",
    "a "
   ]
  },
  {
   "cell_type": "code",
   "execution_count": 45,
   "id": "fad68ee7",
   "metadata": {},
   "outputs": [
    {
     "data": {
      "text/plain": [
       "torch.Size([18])"
      ]
     },
     "execution_count": 45,
     "metadata": {},
     "output_type": "execute_result"
    }
   ],
   "source": [
    "a.shape"
   ]
  },
  {
   "cell_type": "code",
   "execution_count": 46,
   "id": "121d530c",
   "metadata": {},
   "outputs": [
    {
     "data": {
      "text/plain": [
       "tensor([[[ 0,  1],\n",
       "         [ 2,  3],\n",
       "         [ 4,  5]],\n",
       "\n",
       "        [[ 6,  7],\n",
       "         [ 8,  9],\n",
       "         [10, 11]],\n",
       "\n",
       "        [[12, 13],\n",
       "         [14, 15],\n",
       "         [16, 17]]])"
      ]
     },
     "execution_count": 46,
     "metadata": {},
     "output_type": "execute_result"
    }
   ],
   "source": [
    "a.view(3,3,2)"
   ]
  },
  {
   "cell_type": "code",
   "execution_count": 47,
   "id": "65bb84a7",
   "metadata": {},
   "outputs": [
    {
     "data": {
      "text/plain": [
       " 0\n",
       " 1\n",
       " 2\n",
       " 3\n",
       " 4\n",
       " 5\n",
       " 6\n",
       " 7\n",
       " 8\n",
       " 9\n",
       " 10\n",
       " 11\n",
       " 12\n",
       " 13\n",
       " 14\n",
       " 15\n",
       " 16\n",
       " 17\n",
       "[torch.storage._TypedStorage(dtype=torch.int64, device=cpu) of size 18]"
      ]
     },
     "execution_count": 47,
     "metadata": {},
     "output_type": "execute_result"
    }
   ],
   "source": [
    "a.storage()"
   ]
  },
  {
   "cell_type": "code",
   "execution_count": 48,
   "id": "6d97960a",
   "metadata": {},
   "outputs": [
    {
     "data": {
      "text/plain": [
       "torch.Size([228146, 3, 2])"
      ]
     },
     "execution_count": 48,
     "metadata": {},
     "output_type": "execute_result"
    }
   ],
   "source": [
    "emb.shape"
   ]
  },
  {
   "cell_type": "code",
   "execution_count": 49,
   "id": "98b6df58",
   "metadata": {},
   "outputs": [],
   "source": [
    "z = (emb.view(-1,6) @ W1 + b1) # setting that size to -1 python will  \n",
    "                           #infer what size it should be if the second size is 6 \n",
    "                           ##or u can use emb.shape[0]"
   ]
  },
  {
   "cell_type": "code",
   "execution_count": 50,
   "id": "24ac6d59",
   "metadata": {},
   "outputs": [
    {
     "data": {
      "text/plain": [
       "tensor([[-0.0873,  0.9955,  0.9709,  ..., -0.2650, -0.7039, -0.1974],\n",
       "        [ 0.4405,  0.9995,  0.9910,  ...,  0.1829, -0.0331, -0.6627],\n",
       "        [ 0.9981,  0.9928,  0.9984,  ...,  0.9986,  0.9095,  0.1631],\n",
       "        ...,\n",
       "        [-0.7488, -0.9924, -0.5986,  ..., -0.1949,  0.6998,  0.7451],\n",
       "        [-0.0108, -0.8555,  0.3377,  ...,  0.8063,  0.2855, -0.7531],\n",
       "        [-0.8376,  0.5427,  0.7546,  ...,  0.8405,  1.0000, -0.6519]])"
      ]
     },
     "execution_count": 50,
     "metadata": {},
     "output_type": "execute_result"
    }
   ],
   "source": [
    "h = torch.tanh(z)\n",
    "h"
   ]
  },
  {
   "cell_type": "code",
   "execution_count": 51,
   "id": "80d6c6fc",
   "metadata": {},
   "outputs": [
    {
     "data": {
      "text/plain": [
       "torch.Size([228146, 100])"
      ]
     },
     "execution_count": 51,
     "metadata": {},
     "output_type": "execute_result"
    }
   ],
   "source": [
    "h.shape"
   ]
  },
  {
   "cell_type": "code",
   "execution_count": 52,
   "id": "7ae44c89",
   "metadata": {},
   "outputs": [],
   "source": [
    "W2 = torch.randn((100, 27))\n",
    "b2 = torch.rand(27)"
   ]
  },
  {
   "cell_type": "code",
   "execution_count": 53,
   "id": "02aee4e4",
   "metadata": {},
   "outputs": [],
   "source": [
    "logits = h @ W2 + b2"
   ]
  },
  {
   "cell_type": "code",
   "execution_count": 54,
   "id": "ab58383d",
   "metadata": {},
   "outputs": [
    {
     "data": {
      "text/plain": [
       "torch.Size([228146, 27])"
      ]
     },
     "execution_count": 54,
     "metadata": {},
     "output_type": "execute_result"
    }
   ],
   "source": [
    "logits.shape"
   ]
  },
  {
   "cell_type": "code",
   "execution_count": 55,
   "id": "37326310",
   "metadata": {},
   "outputs": [],
   "source": [
    "counts = logits.exp()"
   ]
  },
  {
   "cell_type": "code",
   "execution_count": 56,
   "id": "2a23bb82",
   "metadata": {},
   "outputs": [],
   "source": [
    "prob = counts / counts.sum(1, keepdims=True)"
   ]
  },
  {
   "cell_type": "code",
   "execution_count": 57,
   "id": "9bc40a07",
   "metadata": {},
   "outputs": [
    {
     "data": {
      "text/plain": [
       "torch.Size([228146, 27])"
      ]
     },
     "execution_count": 57,
     "metadata": {},
     "output_type": "execute_result"
    }
   ],
   "source": [
    "prob.shape"
   ]
  },
  {
   "cell_type": "code",
   "execution_count": 58,
   "id": "4e9e1fd8",
   "metadata": {},
   "outputs": [
    {
     "data": {
      "text/plain": [
       "tensor(13.9157)"
      ]
     },
     "execution_count": 58,
     "metadata": {},
     "output_type": "execute_result"
    }
   ],
   "source": [
    "loss = -prob[torch.arange(32),Y[:32]].log().mean()\n",
    "loss"
   ]
  },
  {
   "cell_type": "code",
   "execution_count": 59,
   "id": "7551a9b8",
   "metadata": {},
   "outputs": [
    {
     "data": {
      "text/plain": [
       "tensor([0.0000e+00, 1.4013e-45, 3.7835e-44, 1.0000e+00])"
      ]
     },
     "execution_count": 59,
     "metadata": {},
     "output_type": "execute_result"
    }
   ],
   "source": [
    "logits = torch.tensor([-5, -3, 0, 100]) -100\n",
    "counts = logits.exp()\n",
    "probs = counts / counts.sum()\n",
    "probs"
   ]
  },
  {
   "cell_type": "code",
   "execution_count": 60,
   "id": "a281c234",
   "metadata": {},
   "outputs": [],
   "source": [
    "\n",
    "# ------------ final code for this lecture --------------- \n"
   ]
  },
  {
   "cell_type": "code",
   "execution_count": 61,
   "id": "f3732f5d",
   "metadata": {},
   "outputs": [
    {
     "data": {
      "text/plain": [
       "(torch.Size([182625, 3]), torch.Size([182625]))"
      ]
     },
     "execution_count": 61,
     "metadata": {},
     "output_type": "execute_result"
    }
   ],
   "source": [
    "Xtr.shape, Ytr.shape #dataset"
   ]
  },
  {
   "cell_type": "code",
   "execution_count": 62,
   "id": "aa793617",
   "metadata": {},
   "outputs": [],
   "source": [
    "emb_dim = 14\n",
    "nr_of_input_units = 3\n",
    "g = torch.Generator().manual_seed(2147483647)\n",
    "C = torch.randn((27,emb_dim), generator=g)\n",
    "W1 = torch.randn((emb_dim * nr_of_input_units,200), generator=g)\n",
    "b1 = torch.randn(200, generator=g)\n",
    "W2 = torch.randn((200, 27), generator=g)\n",
    "b2 = torch.randn(27, generator=g)\n",
    "parameters = [C, W1, b1, W2, b2]"
   ]
  },
  {
   "cell_type": "code",
   "execution_count": 63,
   "id": "7c19f374",
   "metadata": {},
   "outputs": [
    {
     "data": {
      "text/plain": [
       "14405"
      ]
     },
     "execution_count": 63,
     "metadata": {},
     "output_type": "execute_result"
    }
   ],
   "source": [
    "sum(p.nelement() for p in parameters) #number of parameters in total"
   ]
  },
  {
   "cell_type": "code",
   "execution_count": 64,
   "id": "ec17018a",
   "metadata": {},
   "outputs": [],
   "source": [
    "for p in parameters:\n",
    "    p.requires_grad = True"
   ]
  },
  {
   "cell_type": "code",
   "execution_count": 65,
   "id": "376f6044",
   "metadata": {},
   "outputs": [],
   "source": [
    "lre = torch.linspace(-3, 0, 1000)\n",
    "lrs = 10**lre\n",
    "# lrs"
   ]
  },
  {
   "cell_type": "code",
   "execution_count": 66,
   "id": "a4d6489f",
   "metadata": {},
   "outputs": [],
   "source": [
    "lri = []\n",
    "lossi = []\n",
    "stepi = []\n",
    "minibatch_size = 64"
   ]
  },
  {
   "cell_type": "code",
   "execution_count": 67,
   "id": "7e90c494",
   "metadata": {},
   "outputs": [
    {
     "name": "stdout",
     "output_type": "stream",
     "text": [
      "loss 2.0996310710906982\n"
     ]
    }
   ],
   "source": [
    "\n",
    "for i in range(200000):\n",
    "\n",
    "    #minibatch construct\n",
    "    ix = torch.randint(0, Xtr.shape[0],(minibatch_size,))\n",
    "    \n",
    "    emb = C[Xtr[ix]] # (minibatch_size, 3, 2)\n",
    "    h = torch.tanh(emb.view(-1, emb_dim * nr_of_input_units) @ W1 +b1) #(minibatch_size,100)\n",
    "    logits = h @ W2 + b2 #(minibatch_size,27)\n",
    "    loss = F.cross_entropy(logits, Ytr[ix])\n",
    "#     print('loss',loss.item())\n",
    "\n",
    "    #backward pass\n",
    "    for p in parameters:\n",
    "        p.grad = None\n",
    "    loss.backward()\n",
    "    lr = 0.1 if i < 100000  else 0.01\n",
    "    for p in parameters:\n",
    "        p.data += -lr * p.grad\n",
    "\n",
    "    #track stats\n",
    "#      lri.append(lre[i])\n",
    "    stepi.append(i)\n",
    "    lossi.append(loss.log10().item())\n",
    "print('loss',loss.item())\n"
   ]
  },
  {
   "cell_type": "code",
   "execution_count": 68,
   "id": "97775dc8",
   "metadata": {},
   "outputs": [
    {
     "data": {
      "text/plain": [
       "[<matplotlib.lines.Line2D at 0x132f802b0>]"
      ]
     },
     "execution_count": 68,
     "metadata": {},
     "output_type": "execute_result"
    },
    {
     "data": {
      "image/png": "[encoded data removed]",
      "text/plain": [
       "<Figure size 432x288 with 1 Axes>"
      ]
     },
     "metadata": {
      "needs_background": "light"
     },
     "output_type": "display_data"
    }
   ],
   "source": [
    "plt.plot(stepi, lossi)"
   ]
  },
  {
   "cell_type": "code",
   "execution_count": 69,
   "id": "c6655f65",
   "metadata": {},
   "outputs": [
    {
     "data": {
      "text/plain": [
       "tensor(2.0885, grad_fn=<NllLossBackward0>)"
      ]
     },
     "execution_count": 69,
     "metadata": {},
     "output_type": "execute_result"
    }
   ],
   "source": [
    "emb = C[Xtr] # (32, 3, 2)\n",
    "h = torch.tanh(emb.view(-1, emb_dim * nr_of_input_units) @ W1 +b1) #(32,100)\n",
    "logits = h @ W2 + b2 #(32,27)\n",
    "loss = F.cross_entropy(logits, Ytr)\n",
    "loss"
   ]
  },
  {
   "cell_type": "code",
   "execution_count": 70,
   "id": "9eaaea35",
   "metadata": {},
   "outputs": [
    {
     "data": {
      "text/plain": [
       "tensor(2.1467, grad_fn=<NllLossBackward0>)"
      ]
     },
     "execution_count": 70,
     "metadata": {},
     "output_type": "execute_result"
    }
   ],
   "source": [
    "emb = C[Xdev] # (32, 3, 2)\n",
    "h = torch.tanh(emb.view(-1, emb_dim * nr_of_input_units) @ W1 +b1) #(32,100)\n",
    "logits = h @ W2 + b2 #(32,27)\n",
    "loss = F.cross_entropy(logits, Ydev)\n",
    "loss"
   ]
  },
  {
   "cell_type": "code",
   "execution_count": 71,
   "id": "ee703b36",
   "metadata": {},
   "outputs": [
    {
     "data": {
      "image/png": "[encoded data removed]",
      "text/plain": [
       "<Figure size 576x576 with 1 Axes>"
      ]
     },
     "metadata": {
      "needs_background": "light"
     },
     "output_type": "display_data"
    }
   ],
   "source": [
    "# see where letters are representedmbal7\n",
    "\n",
    "plt.figure(figsize=(8,8))\n",
    "plt.scatter(C[:,0].data, C[:,1].data, s=200)\n",
    "for i in range(C.shape[0]):\n",
    "    plt.text(C[i,0].item(), C[i,1].item(), itos[i], ha=\"center\", va=\"center\", color=\"white\")\n",
    "plt.grid('minor')    "
   ]
  },
  {
   "cell_type": "code",
   "execution_count": 72,
   "id": "fec5e455",
   "metadata": {},
   "outputs": [],
   "source": [
    "#training split, dev/validation split, test split\n",
    "#80% , 10%, 10%"
   ]
  },
  {
   "cell_type": "code",
   "execution_count": 73,
   "id": "dc2f5b62",
   "metadata": {},
   "outputs": [
    {
     "data": {
      "text/plain": [
       "tensor([ 1.0764,  1.6821,  0.0454, -0.1860,  0.3789,  0.7875, -0.0694, -0.1782,\n",
       "         0.4871, -1.5850,  0.2302,  0.5319,  0.2908,  0.4880,  0.3386, -0.0872,\n",
       "        -0.1712,  0.6961,  0.4694,  0.0268,  0.0781, -0.5926,  0.5212, -0.4674,\n",
       "         0.1691,  0.1674,  0.2899], grad_fn=<SelectBackward0>)"
      ]
     },
     "execution_count": 73,
     "metadata": {},
     "output_type": "execute_result"
    }
   ],
   "source": [
    "C[:,0]"
   ]
  },
  {
   "cell_type": "code",
   "execution_count": 74,
   "id": "4072b6e9",
   "metadata": {},
   "outputs": [
    {
     "data": {
      "text/plain": [
       "tensor([-0.3504,  2.6625,  0.1565,  0.1021,  0.1947,  0.7893, -0.1271,  0.4529,\n",
       "        -1.6947, -0.1470, -0.3224,  0.3685, -0.1431, -0.0434, -0.2136,  0.9103,\n",
       "        -0.4269, -0.4295, -0.2892,  0.1772,  0.2182,  0.4169,  0.0620, -0.0036,\n",
       "         0.4336,  0.3021, -0.0917], grad_fn=<SelectBackward0>)"
      ]
     },
     "execution_count": 74,
     "metadata": {},
     "output_type": "execute_result"
    }
   ],
   "source": [
    "C[:,1]"
   ]
  },
  {
   "cell_type": "code",
   "execution_count": 75,
   "id": "9b13305d",
   "metadata": {},
   "outputs": [
    {
     "data": {
      "text/plain": [
       "torch.Size([1, 951510])"
      ]
     },
     "execution_count": 75,
     "metadata": {},
     "output_type": "execute_result"
    }
   ],
   "source": [
    "emb.view(1,-1).shape"
   ]
  },
  {
   "cell_type": "code",
   "execution_count": 1,
   "id": "560b9230",
   "metadata": {},
   "outputs": [
    {
     "ename": "NameError",
     "evalue": "name 'torch' is not defined",
     "output_type": "error",
     "traceback": [
      "\u001b[0;31m---------------------------------------------------------------------------\u001b[0m",
      "\u001b[0;31mNameError\u001b[0m                                 Traceback (most recent call last)",
      "Input \u001b[0;32mIn [1]\u001b[0m, in \u001b[0;36m<cell line: 2>\u001b[0;34m()\u001b[0m\n\u001b[1;32m      1\u001b[0m \u001b[38;5;66;03m# sample from the model\u001b[39;00m\n\u001b[0;32m----> 2\u001b[0m g \u001b[38;5;241m=\u001b[39m \u001b[43mtorch\u001b[49m\u001b[38;5;241m.\u001b[39mGenerator()\u001b[38;5;241m.\u001b[39mmanual_seed(\u001b[38;5;241m2147483647\u001b[39m \u001b[38;5;241m+\u001b[39m \u001b[38;5;241m10\u001b[39m)\n\u001b[1;32m      4\u001b[0m \u001b[38;5;28;01mfor\u001b[39;00m _ \u001b[38;5;129;01min\u001b[39;00m \u001b[38;5;28mrange\u001b[39m(\u001b[38;5;241m20\u001b[39m):\n\u001b[1;32m      6\u001b[0m     out \u001b[38;5;241m=\u001b[39m []\n",
      "\u001b[0;31mNameError\u001b[0m: name 'torch' is not defined"
     ]
    }
   ],
   "source": [
    "# sample from the model\n",
    "g = torch.Generator().manual_seed(2147483647 + 10)\n",
    "\n",
    "for _ in range(20):\n",
    "    \n",
    "    out = []\n",
    "    context = [0] * block_size # initialize with all ...\n",
    "    while True:\n",
    "      emb = C[torch.tensor([context])] # (1,block_size,d)\n",
    "#       print('C',C)\n",
    "#       print('context',context)\n",
    "#       print('emb',emb)\n",
    "      h = torch.tanh(emb.view(1, -1) @ W1 + b1)\n",
    "      logits = h @ W2 + b2\n",
    "      probs = F.softmax(logits, dim=1)\n",
    "#       print(f'p: {probs.shape}')\n",
    "      ix = torch.multinomial(probs, num_samples=1, generator=g).item()\n",
    "      context = context[1:] + [ix]\n",
    "      out.append(ix)\n",
    "      if ix == 0:\n",
    "        break\n",
    "    \n",
    "    print(''.join(itos[i] for i in out))\n"
   ]
  },
  {
   "cell_type": "code",
   "execution_count": null,
   "id": "d91c41ad",
   "metadata": {},
   "outputs": [],
   "source": []
  }
 ],
 "metadata": {
  "kernelspec": {
   "display_name": "Python 3 (ipykernel)",
   "language": "python",
   "name": "python3"
  },
  "language_info": {
   "codemirror_mode": {
    "name": "ipython",
    "version": 3
   },
   "file_extension": ".py",
   "mimetype": "text/x-python",
   "name": "python",
   "nbconvert_exporter": "python",
   "pygments_lexer": "ipython3",
   "version": "3.9.12"
  }
 },
 "nbformat": 4,
 "nbformat_minor": 5
}
